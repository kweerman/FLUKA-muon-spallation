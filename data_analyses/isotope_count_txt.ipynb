{
 "cells": [
  {
   "cell_type": "markdown",
   "id": "34fcaed8-c6c6-46df-9e48-8783310308ef",
   "metadata": {},
   "source": [
    "## Convert isotope count information to txt file"
   ]
  },
  {
   "cell_type": "code",
   "execution_count": 23,
   "id": "53fd8b71-6b75-4ece-8bd9-9557c6ec2b4f",
   "metadata": {},
   "outputs": [],
   "source": [
    "import ast\n",
    "import numpy as np\n",
    "import matplotlib.pyplot as plt\n",
    "import matplotlib as mpl\n",
    "from operator import itemgetter"
   ]
  },
  {
   "cell_type": "code",
   "execution_count": 29,
   "id": "5cd27b41-46b9-4212-bd28-9a9682a76084",
   "metadata": {},
   "outputs": [],
   "source": [
    "def adjust_txt_file(filename):\n",
    "    # read the txt file with first line [[Z1,A1,count1],[Z2,A2,count2],[...]]\n",
    "    # and other lines Z A count (a.u.) count (kton day)^-1\n",
    "    \n",
    "    txtfile = open(filename, 'r')\n",
    "    line1 = txtfile.readline()\n",
    "    isotopecount_list = ast.literal_eval(line1)\n",
    "\n",
    "    # return a new text file with added parameters of choice\n",
    "    newfile = open(\"/project/xenon/kweerman/exercises/XResults_isotopes/AZisotopes21feb_extra.txt\",'w')\n",
    "\n",
    "    # now we loop through the rest of the file\n",
    "    for lines in txtfile:\n",
    "        Z, A, count, count_kton = lines.split()\n",
    "        Z, A, count, count_kton = int(Z), int(A), int(count), float(count_kton)\n",
    "\n",
    "        # for converting count to (kton day)^-1\n",
    "        conversion_factor = count/count_kton\n",
    "        count_ktonerror = np.sqrt(count)/conversion_factor\n",
    "\n",
    "        newfile.write(\"{0} {1} count: {2} ktonday: {3:e} error: {4:e}\\n\".format(Z, A, count, count_kton, count_ktonerror))\n",
    "    newfile.close()\n",
    "    txtfile.close()\n",
    "    return\n",
    "\n",
    "adjust_txt_file(\"/project/xenon/kweerman/exercises/XResults_isotopes/txt_isotopes/AZisotopes21feb.txt\")"
   ]
  },
  {
   "cell_type": "code",
   "execution_count": null,
   "id": "c588cc6c-4e28-4d70-8287-6d0af0588ee2",
   "metadata": {},
   "outputs": [],
   "source": []
  }
 ],
 "metadata": {
  "kernelspec": {
   "display_name": "Python 3 (ipykernel)",
   "language": "python",
   "name": "python3"
  },
  "language_info": {
   "codemirror_mode": {
    "name": "ipython",
    "version": 3
   },
   "file_extension": ".py",
   "mimetype": "text/x-python",
   "name": "python",
   "nbconvert_exporter": "python",
   "pygments_lexer": "ipython3",
   "version": "3.7.11"
  }
 },
 "nbformat": 4,
 "nbformat_minor": 5
}
