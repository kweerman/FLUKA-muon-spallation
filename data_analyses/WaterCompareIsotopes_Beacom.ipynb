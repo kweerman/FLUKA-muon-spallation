{
 "cells": [
  {
   "cell_type": "markdown",
   "metadata": {},
   "source": [
    "## Comparing isotope text file of water with the beacom article"
   ]
  },
  {
   "cell_type": "markdown",
   "metadata": {},
   "source": [
    "We open the text file containing our created isotopes, however this is sorted on Z-values, while in the article this is sorted on A-values. Thus in the first block we sort this on A-values (high to low) and return a new file. Note: we don't use this value for the rest of the code, it is a test"
   ]
  },
  {
   "cell_type": "code",
   "execution_count": 45,
   "metadata": {},
   "outputs": [],
   "source": [
    "from operator import itemgetter"
   ]
  },
  {
   "cell_type": "code",
   "execution_count": 129,
   "metadata": {},
   "outputs": [
    {
     "name": "stdout",
     "output_type": "stream",
     "text": [
      "He 8 1689 0.35e-07\n",
      "Li 8 94747 19.50e-07\n",
      "Li 9 13891 2.86e-07\n",
      "N 16 95404 19.63e-07\n"
     ]
    }
   ],
   "source": [
    "srcefile = open(\"/project/xenon/kweerman/exercises/water/AZisotopesRESIDNUCwater150.txt\", 'r')\n",
    "testlist = [['N', 'Li', 'He'], [16, 9, 8]]\n",
    "Z_list, A_list, count_list, yields_list = [], [], [], []\n",
    "for lines in srcefile:\n",
    "    Z, A, count, yields = lines.split()\n",
    "    A, count, yields = int(A), int(count), float(yields)\n",
    "    if Z in testlist[0] and A in testlist[1]:\n",
    "        print(Z, A, count, \"{0:.2f}e-07\".format(yields*1e7))\n",
    "    Z_list.append(Z)\n",
    "    A_list.append(A)\n",
    "    count_list.append(count)\n",
    "    yields_list.append(yields)\n",
    "    \n",
    "srcefile.close()\n",
    "\n",
    "# returns [('He',6,count,yields), ()]\n",
    "ZAcount_list = list(zip(Z_list, A_list, count_list, yields_list))\n",
    "sorted_toA = sorted(ZAcount_list, key=itemgetter(1), reverse=True)\n",
    "\n",
    "newfile = open(\"/project/xenon/kweerman/exercises/water/AZisotopesRESIDNUCwaterSortedOnA.txt\",'w')\n",
    "for element_list in sorted_toA:\n",
    "    newfile.write(\"{0} {1} {2} {3:.4f}e-07\\n\".format(element_list[1],element_list[0],element_list[2],element_list[3]*1e7))\n",
    "newfile.close()"
   ]
  },
  {
   "cell_type": "markdown",
   "metadata": {},
   "source": [
    "#### Compare the isotopes to the article and return in a new text file"
   ]
  },
  {
   "cell_type": "code",
   "execution_count": 142,
   "metadata": {},
   "outputs": [],
   "source": [
    "# the following lists are substracted from Beacoms articles \"first calculation of cosmic-ray muon spallation background ...\"\n",
    "elements_list = [['N',18],['N',17],['N',16],['C',16],['C',15],['B',14],['O',13],['B',13],['N',12],['B',12],['Be',12],['Be',11],['Li',11],['C',9],['Li',9],['B',8],['Li',8],['He',8]]\n",
    "yields_article = [0.02,0.59,18,0.02,0.82,0.02,0.26,1.9,1.3,12,0.10,0.81,0.01,0.89,1.9,5.8,13,0.23]\n",
    "\n",
    "elements_list_stable = [['O',15],['N',15],['O',14],['N',14],['C',14],['N',13],['C',13],['C',12],['C',11],['B',11],['C',10],['B',10],['Be',10],['Be',9]]\n",
    "yields_article_stable = [351,773,13,295,64,19,225,792,105,174,7.6,77,24,38]\n",
    "\n",
    "# add the lists as tuples in form [(..,..),(..,..)]\n",
    "ZA_list = list(zip(Z_list, A_list))\n",
    "ZAcount_list = list(zip(Z_list, A_list, count_list, yields_list))\n",
    "newfile = open(\"/project/xenon/kweerman/exercises/water/AZisotopesRESIDNUCwaterComparedBeacom.txt\",'w')\n",
    "newfile.write(\"Isotope count Yield (x10^-7 mu g^-1 cm^2) and Yield Beacum article\\n\")\n",
    "\n",
    "# a counter to add the correct article yields as well\n",
    "n = 0\n",
    "for AZ in elements_list:\n",
    "    \n",
    "    # not that ZA_list is filled with tuples and not lists\n",
    "    if tuple(AZ) in ZA_list:\n",
    "        index = ZA_list.index(tuple(AZ))\n",
    "        elements = ZAcount_list[index]\n",
    "        article_yield, kelly_yield = yields_article[n], elements[3]*1e7\n",
    "        diff = kelly_yield - article_yield\n",
    "        proc = (diff/article_yield)*100\n",
    "        \n",
    "        newfile.write(\"{0} {1} {2} {3:.3f} value from article: {4} difference: {5:.4f} percent: {6:.2f} \\n\".\\\n",
    "                      format(elements[1],elements[0],elements[2],kelly_yield, article_yield, diff, proc))    \n",
    "    else:\n",
    "        newfile.write(\"{0} not in results\".format(AZ))\n",
    "    n += 1\n",
    "    \n",
    "# a second time seperately for the stable, long half-lives, invisible decay isotopes according to the article\n",
    "newfile.write(\"--------------------------------------------------------------------------------\\n\")\n",
    "n = 0\n",
    "for AZ in elements_list_stable:\n",
    "    if tuple(AZ) in ZA_list:\n",
    "        index = ZA_list.index(tuple(AZ))\n",
    "        elements = ZAcount_list[index]\n",
    "        article_yield, kelly_yield = yields_article_stable[n], elements[3]*1e7\n",
    "        diff = kelly_yield - article_yield\n",
    "        proc = (diff/article_yield)*100\n",
    "        \n",
    "        newfile.write(\"{0} {1} {2} {3:.3f} value from article: {4} difference: {5:.4f} percent: {6:.2f} \\n\".\\\n",
    "                      format(elements[1],elements[0],elements[2],kelly_yield, article_yield, diff, proc))    \n",
    "    else:\n",
    "        newfile.write(\"{0} not in results\".format(AZ))\n",
    "    n += 1\n",
    "    \n",
    "newfile.close()"
   ]
  },
  {
   "cell_type": "markdown",
   "metadata": {},
   "source": [
    "### Test code for adding two (or more) lists to each other and how to extract them"
   ]
  },
  {
   "cell_type": "code",
   "execution_count": 141,
   "metadata": {},
   "outputs": [
    {
     "name": "stdout",
     "output_type": "stream",
     "text": [
      "[(1, 'A'), (3, 'B'), (2, 'C'), (4, 'D')]\n",
      "[(1, 'A'), (2, 'C'), (3, 'B'), (4, 'D')]\n",
      "(1, 'A')\n",
      "(1, 2, 3, 4)\n",
      "('A', 'C', 'B', 'D')\n"
     ]
    }
   ],
   "source": [
    "# this is how to link lists to each other\n",
    "from operator import itemgetter\n",
    "x_list = [1, 3, 2, 4]\n",
    "y_list = ['A', 'B', 'C', 'D']\n",
    "\n",
    "combined = list(zip(x_list, y_list))\n",
    "print(combined)\n",
    "sorted_combined = sorted(combined, key=itemgetter(0))\n",
    "print(sorted_combined)\n",
    "print(sorted_combined[0])\n",
    "x_sorted, y_sorted = zip(*sorted_combined)\n",
    "\n",
    "print(x_sorted)  # prints (1, 2, 3, 4)\n",
    "print(y_sorted)  # prints ('A', 'C', 'B', 'D')"
   ]
  },
  {
   "cell_type": "markdown",
   "metadata": {},
   "source": [
    "### Pandas table test code for later use"
   ]
  },
  {
   "cell_type": "code",
   "execution_count": 33,
   "metadata": {},
   "outputs": [
    {
     "name": "stdout",
     "output_type": "stream",
     "text": [
      "   kolom1  counts\n",
      "0  [1, 3]       3\n",
      "1  [2, 5]       3\n"
     ]
    }
   ],
   "source": [
    "import pandas as pd\n",
    "voorbeeld_df = pd.DataFrame({\"kolom1\": [[1,3], [2,5]], \"counts\":3})\n",
    "print(voorbeeld_df)"
   ]
  },
  {
   "cell_type": "markdown",
   "metadata": {},
   "source": [
    "### This is how to run a terminal line in jupyterlab"
   ]
  },
  {
   "cell_type": "code",
   "execution_count": 105,
   "metadata": {},
   "outputs": [],
   "source": [
    "#!pip list"
   ]
  },
  {
   "cell_type": "markdown",
   "metadata": {},
   "source": [
    "# Recalculate the event yield in correct units of daughter and parent file"
   ]
  },
  {
   "cell_type": "code",
   "execution_count": 6,
   "metadata": {},
   "outputs": [
    {
     "name": "stdout",
     "output_type": "stream",
     "text": [
      "48600000000.0\n"
     ]
    }
   ],
   "source": [
    "# calculate the conversion factor from eventcount to yield\n",
    "import numpy as np\n",
    "\n",
    "no_muons_simulated = 150*10**5\n",
    "densitywater = 1.0 #g/cm^3\n",
    "radius = 3930 #cm\n",
    "heigth = 3240 #cm\n",
    "volume = np.pi * (radius**2) * heigth\n",
    "\n",
    "#R = eventcount / (no_muons_simulated * densitywater * heigth)\n",
    "conversion_factor = no_muons_simulated * densitywater * heigth\n",
    "print(conversion_factor)"
   ]
  },
  {
   "cell_type": "code",
   "execution_count": 41,
   "metadata": {},
   "outputs": [],
   "source": [
    "import csv\n",
    "def elements_list(elements_file):\n",
    "    # returns a list containing the names of the chemical elements\n",
    "    # the index corresponds to the Z value\n",
    "    \n",
    "    elementsFile = open(elements_file, encoding='utf-8')\n",
    "    elements = list(csv.reader(elementsFile))\n",
    "    elementsFile.close()\n",
    "\n",
    "    elements_list = []\n",
    "    for line in elements:\n",
    "        elements_list.append(line[1])\n",
    "\n",
    "    return elements_list\n",
    "elements_file = '/project/xenon/kweerman/exercises/PubChemElements_all.csv'\n",
    "elements_names = elements_list(elements_file)"
   ]
  },
  {
   "cell_type": "markdown",
   "metadata": {},
   "source": [
    "## Isotope yields of the parent files"
   ]
  },
  {
   "cell_type": "code",
   "execution_count": 42,
   "metadata": {},
   "outputs": [],
   "source": [
    "srcefile = open(\"/project/xenon/kweerman/exercises/water/parentswater.txt\", 'r')\n",
    "newfile = open(\"/project/xenon/kweerman/exercises/water/parentswater_correctyields.txt\",'w')\n",
    "\n",
    "Z_list, A_list, count_list, yields_list = [], [], [], []\n",
    "for lines in srcefile:\n",
    "    #Z, A, count, yields = lines.split()\n",
    "    Z = int(lines.split()[0])\n",
    "    Z_element = elements_names[Z]\n",
    "    first_part = lines.split()[1:3]\n",
    "    output_firstpart = \" \".join(first_part)\n",
    "    count = float(lines.split()[2])\n",
    "    yields = count/conversion_factor\n",
    "    last_part = lines.split()[4:]\n",
    "    output_lastpart = \" \".join(last_part)\n",
    "    #print(\"{0} {1} {2:e} {3}\\n\".format(Z_element, output_firstpart, yields, output_lastpart))\n",
    "    newfile.write(\"{0} {1} {2:e} {3}\\n\".format(Z_element, output_firstpart, yields, output_lastpart))\n",
    "    \n",
    "srcefile.close()\n",
    "newfile.close()\n",
    "\n",
    "\n",
    "#for element_list in sorted_toA:\n",
    "#    newfile.write(\"{0} {1} {2} {3:.4f}e-07\\n\".format(element_list[1],element_list[0],element_list[2],element_list[3]*1e7))\n",
    "#newfile.close()"
   ]
  },
  {
   "cell_type": "code",
   "execution_count": null,
   "metadata": {},
   "outputs": [],
   "source": [
    "srcefile = open(\"/project/xenon/kweerman/exercises/water/parentswater_correctyields.txt\", 'r')\n",
    "testlist = [['N', 'Li', 'He'], [16, 9, 8]]\n",
    "Z_list, A_list, count_list, yields_list = [], [], [], []\n",
    "parents_list = []\n",
    "for lines in srcefile:\n",
    "    Z, A, count, yields = lines.split()[0:4]\n",
    "    parents = \" \".join(lines.split()[4:])\n",
    "    #print(\" \".join(parents))\n",
    "    A, count, yields = int(A), int(count), float(yields)\n",
    "    if Z in testlist[0] and A in testlist[1]:\n",
    "        print(Z, A, count, \"{0:.2f}e-07\".format(yields*1e7))\n",
    "    Z_list.append(Z)\n",
    "    A_list.append(A)\n",
    "    count_list.append(count)\n",
    "    yields_list.append(yields)\n",
    "    parents_list.append(parents)\n",
    "    \n",
    "srcefile.close()\n",
    "\n",
    "# returns [('He',6,count,yields), ()]\n",
    "ZAcount_list = list(zip(Z_list, A_list, count_list, yields_list, parents_list))\n",
    "sorted_toA = sorted(ZAcount_list, key=itemgetter(1), reverse=True)\n",
    "\n",
    "newfile = open(\"/project/xenon/kweerman/exercises/water/parentswaterSortedOnA.txt\",'w')\n",
    "for element_list in sorted_toA:\n",
    "    newfile.write(\"{0} {1} {2} {3:.4f}e-07 {4}\\n\".format(element_list[1],element_list[0],element_list[2],element_list[3]*1e7,element_list[4]))\n",
    "newfile.close()"
   ]
  },
  {
   "cell_type": "code",
   "execution_count": null,
   "metadata": {},
   "outputs": [],
   "source": [
    "# the following lists are substracted from Beacoms articles \"first calculation of cosmic-ray muon spallation background ...\"\n",
    "elements_list = [['N',18],['N',17],['N',16],['C',16],['C',15],['B',14],['O',13],['B',13],['N',12],['B',12],['Be',12],['Be',11],['Li',11],['C',9],['Li',9],['B',8],['Li',8],['He',8]]\n",
    "yields_article = [0.02,0.59,18,0.02,0.82,0.02,0.26,1.9,1.3,12,0.10,0.81,0.01,0.89,1.9,5.8,13,0.23]\n",
    "\n",
    "elements_list_stable = [['O',15],['N',15],['O',14],['N',14],['C',14],['N',13],['C',13],['C',12],['C',11],['B',11],['C',10],['B',10],['Be',10],['Be',9]]\n",
    "yields_article_stable = [351,773,13,295,64,19,225,792,105,174,7.6,77,24,38]\n",
    "\n",
    "# add the lists as tuples in form [(..,..),(..,..)]\n",
    "ZA_list = list(zip(Z_list, A_list))\n",
    "ZAcount_list = list(zip(Z_list, A_list, count_list, yields_list, parents_list))\n",
    "newfile = open(\"/project/xenon/kweerman/exercises/water/parentswaterComparedBeacom.txt\",'w')\n",
    "newfile.write(\"Isotope count Yield (x10^-7 mu g^-1 cm^2) and Yield Beacum article\\n\")\n",
    "\n",
    "# a counter to add the correct article yields as well\n",
    "n = 0\n",
    "for AZ in elements_list:\n",
    "    \n",
    "    # not that ZA_list is filled with tuples and not lists\n",
    "    if tuple(AZ) in ZA_list:\n",
    "        index = ZA_list.index(tuple(AZ))\n",
    "        elements = ZAcount_list[index]\n",
    "        article_yield, kelly_yield = yields_article[n], elements[3]*1e7\n",
    "        diff = kelly_yield - article_yield\n",
    "        proc = (diff/article_yield)*100\n",
    "        \n",
    "        newfile.write(\"{0} {1} {2} {3:.3f} value from article: {4} difference: {5:.4f} percent: {6:.2f} {7} \\n\".\\\n",
    "                      format(elements[1],elements[0],elements[2],kelly_yield, article_yield, diff, proc, elements[4]))    \n",
    "    else:\n",
    "        newfile.write(\"{0} not in results\".format(AZ))\n",
    "    n += 1\n",
    "    \n",
    "# a second time seperately for the stable, long half-lives, invisible decay isotopes according to the article\n",
    "newfile.write(\"--------------------------------------------------------------------------------\\n\")\n",
    "n = 0\n",
    "for AZ in elements_list_stable:\n",
    "    if tuple(AZ) in ZA_list:\n",
    "        index = ZA_list.index(tuple(AZ))\n",
    "        elements = ZAcount_list[index]\n",
    "        article_yield, kelly_yield = yields_article_stable[n], elements[3]*1e7\n",
    "        diff = kelly_yield - article_yield\n",
    "        proc = (diff/article_yield)*100\n",
    "        \n",
    "        newfile.write(\"{0} {1} {2} {3:.3f} value from article: {4} difference: {5:.4f} percent: {6:.2f} {7} \\n\".\\\n",
    "                      format(elements[1],elements[0],elements[2],kelly_yield, article_yield, diff, proc, elements[4]))    \n",
    "    else:\n",
    "        newfile.write(\"{0} not in results\".format(AZ))\n",
    "    n += 1\n",
    "    \n",
    "newfile.close()"
   ]
  },
  {
   "cell_type": "markdown",
   "metadata": {},
   "source": [
    "## Isotope yield of the daughters"
   ]
  },
  {
   "cell_type": "code",
   "execution_count": 43,
   "metadata": {},
   "outputs": [],
   "source": [
    "srcefile = open(\"/project/xenon/kweerman/exercises/water/daughterwater.txt\", 'r')\n",
    "newfile = open(\"/project/xenon/kweerman/exercises/water/daughterwater_correctyields.txt\",'w')\n",
    "\n",
    "first_line = srcefile.readline()\n",
    "newfile.write(\"{0}\".format(first_line))\n",
    "second_line = srcefile.readline()\n",
    "newfile.write(\"{0}\".format(second_line))\n",
    "\n",
    "for lines in srcefile:\n",
    "    #Z, A, count, yields = lines.split()\n",
    "    Z = int(lines.split()[0])\n",
    "    Z_element = elements_names[Z]\n",
    "    first_part = lines.split()[1:3]\n",
    "    output_firstpart = \" \".join(first_part)\n",
    "    count = float(lines.split()[2])\n",
    "    yields = count/conversion_factor\n",
    "    last_part = lines.split()[4:]\n",
    "    output_lastpart = \" \".join(last_part)\n",
    "    #print(\"{0} {1:e} {2}\".format(output_firstpart, yields, output_lastpart))\n",
    "    newfile.write(\"{0} {1} {2:e} {3}\\n\".format(Z_element, output_firstpart, yields, output_lastpart))\n",
    "    \n",
    "srcefile.close()\n",
    "newfile.close()\n",
    "\n",
    "\n",
    "#for element_list in sorted_toA:\n",
    "#    newfile.write(\"{0} {1} {2} {3:.4f}e-07\\n\".format(element_list[1],element_list[0],element_list[2],element_list[3]*1e7))\n",
    "#newfile.close()"
   ]
  },
  {
   "cell_type": "code",
   "execution_count": 64,
   "metadata": {},
   "outputs": [
    {
     "name": "stdout",
     "output_type": "stream",
     "text": [
      "He 8 1688 0.35e-07\n",
      "Li 8 94602 19.47e-07\n",
      "Li 9 13829 2.85e-07\n",
      "N 16 32920 6.77e-07\n"
     ]
    }
   ],
   "source": [
    "srcefile = open(\"/project/xenon/kweerman/exercises/water/daughterwater_correctyields.txt\", 'r')\n",
    "testlist = [['N', 'Li', 'He'], [16, 9, 8]]\n",
    "Z_list, A_list, count_list, yields_list = [], [], [], []\n",
    "parents_list = []\n",
    "\n",
    "first_line = srcefile.readline()\n",
    "second_line = srcefile.readline()\n",
    "\n",
    "for lines in srcefile:\n",
    "    Z, A, count, yields = lines.split()[0:4]\n",
    "    parents = \" \".join(lines.split()[4:])\n",
    "    #print(\" \".join(parents))\n",
    "    A, count, yields = int(A), int(count), float(yields)\n",
    "    if Z in testlist[0] and A in testlist[1]:\n",
    "        print(Z, A, count, \"{0:.2f}e-07\".format(yields*1e7))\n",
    "    Z_list.append(Z)\n",
    "    A_list.append(A)\n",
    "    count_list.append(count)\n",
    "    yields_list.append(yields)\n",
    "    parents_list.append(parents)\n",
    "    \n",
    "srcefile.close()\n",
    "\n",
    "# returns [('He',6,count,yields), ()]\n",
    "ZAcount_list = list(zip(Z_list, A_list, count_list, yields_list, parents_list))\n",
    "sorted_toA = sorted(ZAcount_list, key=itemgetter(1), reverse=True)\n",
    "\n",
    "newfile = open(\"/project/xenon/kweerman/exercises/water/daughterwaterSortedOnA.txt\",'w')\n",
    "\n",
    "for element_list in sorted_toA:\n",
    "    newfile.write(\"{0} {1} {2} {3:.4f}e-07 {4}\\n\".format(element_list[1],element_list[0],element_list[2],element_list[3]*1e7,element_list[4]))\n",
    "newfile.close()"
   ]
  },
  {
   "cell_type": "code",
   "execution_count": 66,
   "metadata": {},
   "outputs": [],
   "source": [
    "# the following lists are substracted from Beacoms articles \"first calculation of cosmic-ray muon spallation background ...\"\n",
    "elements_list = [['N',18],['N',17],['N',16],['C',16],['C',15],['B',14],['O',13],['B',13],['N',12],['B',12],['Be',12],['Be',11],['Li',11],['C',9],['Li',9],['B',8],['Li',8],['He',8]]\n",
    "yields_article = [0.02,0.59,18,0.02,0.82,0.02,0.26,1.9,1.3,12,0.10,0.81,0.01,0.89,1.9,5.8,13,0.23]\n",
    "\n",
    "elements_list_stable = [['O',15],['N',15],['O',14],['N',14],['C',14],['N',13],['C',13],['C',12],['C',11],['B',11],['C',10],['B',10],['Be',10],['Be',9]]\n",
    "yields_article_stable = [351,773,13,295,64,19,225,792,105,174,7.6,77,24,38]\n",
    "\n",
    "# add the lists as tuples in form [(..,..),(..,..)]\n",
    "ZA_list = list(zip(Z_list, A_list))\n",
    "ZAcount_list = list(zip(Z_list, A_list, count_list, yields_list, parents_list))\n",
    "newfile = open(\"/project/xenon/kweerman/exercises/water/daughterwaterComparedBeacom.txt\",'w')\n",
    "newfile.write(\"Isotope count Yield (x10^-7 mu g^-1 cm^2) and Yield Beacum article\\n\")\n",
    "\n",
    "# a counter to add the correct article yields as well\n",
    "n = 0\n",
    "for AZ in elements_list:\n",
    "    \n",
    "    # not that ZA_list is filled with tuples and not lists\n",
    "    if tuple(AZ) in ZA_list:\n",
    "        index = ZA_list.index(tuple(AZ))\n",
    "        elements = ZAcount_list[index]\n",
    "        article_yield, kelly_yield = yields_article[n], elements[3]*1e7\n",
    "        diff = kelly_yield - article_yield\n",
    "        proc = (diff/article_yield)*100\n",
    "        \n",
    "        newfile.write(\"{0} {1} {2} {3:.3f} value from article: {4} difference: {5:.4f} percent: {6:.2f} {7} \\n\".\\\n",
    "                      format(elements[1],elements[0],elements[2],kelly_yield, article_yield, diff, proc, elements[4]))    \n",
    "    else:\n",
    "        newfile.write(\"{0} not in results\".format(AZ))\n",
    "    n += 1\n",
    "    \n",
    "# a second time seperately for the stable, long half-lives, invisible decay isotopes according to the article\n",
    "newfile.write(\"--------------------------------------------------------------------------------\\n\")\n",
    "n = 0\n",
    "for AZ in elements_list_stable:\n",
    "    if tuple(AZ) in ZA_list:\n",
    "        index = ZA_list.index(tuple(AZ))\n",
    "        elements = ZAcount_list[index]\n",
    "        article_yield, kelly_yield = yields_article_stable[n], elements[3]*1e7\n",
    "        diff = kelly_yield - article_yield\n",
    "        proc = (diff/article_yield)*100\n",
    "        \n",
    "        newfile.write(\"{0} {1} {2} {3:.3f} value from article: {4} difference: {5:.4f} percent: {6:.2f} {7} \\n\".\\\n",
    "                      format(elements[1],elements[0],elements[2],kelly_yield, article_yield, diff, proc, elements[4]))    \n",
    "    else:\n",
    "        newfile.write(\"{0} not in results\".format(AZ))\n",
    "    n += 1\n",
    "    \n",
    "newfile.close()"
   ]
  },
  {
   "cell_type": "code",
   "execution_count": null,
   "metadata": {},
   "outputs": [],
   "source": []
  }
 ],
 "metadata": {
  "interpreter": {
   "hash": "c7f4fa13352a57f36f0a2e97a569164a3b112b915fa15e14ae3b477406353c5d"
  },
  "kernelspec": {
   "display_name": "Python 3 (ipykernel)",
   "language": "python",
   "name": "python3"
  },
  "language_info": {
   "codemirror_mode": {
    "name": "ipython",
    "version": 3
   },
   "file_extension": ".py",
   "mimetype": "text/x-python",
   "name": "python",
   "nbconvert_exporter": "python",
   "pygments_lexer": "ipython3",
   "version": "3.7.11"
  }
 },
 "nbformat": 4,
 "nbformat_minor": 4
}
