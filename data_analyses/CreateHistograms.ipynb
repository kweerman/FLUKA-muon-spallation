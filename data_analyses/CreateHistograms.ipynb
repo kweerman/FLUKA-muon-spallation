{
 "cells": [
  {
   "cell_type": "markdown",
   "id": "1de27a10-dbcf-498e-8fbe-59e3a7766648",
   "metadata": {},
   "source": [
    "## Read txt file with isotopes information and create colourmap of A Z"
   ]
  },
  {
   "cell_type": "code",
   "execution_count": 1,
   "id": "4308d07c-5f61-4dcc-b3f6-b3e49e6c3a78",
   "metadata": {},
   "outputs": [],
   "source": [
    "import ast\n",
    "import matplotlib.pyplot as plt\n",
    "import matplotlib as mpl\n",
    "from operator import itemgetter"
   ]
  },
  {
   "cell_type": "markdown",
   "id": "61f6c654-ad61-40d4-9867-c80342509f48",
   "metadata": {},
   "source": [
    "First we read the txt file where the first line contains the lists of isotopes and counts that were returned with ussrnc.f and looped through with ussrnc_plot.py -> it is the list where all runs have been added (which will be an indication of the number of muons simulated)."
   ]
  },
  {
   "cell_type": "code",
   "execution_count": 7,
   "id": "e9192ef0-946a-4e2e-90d9-9a27b49338a9",
   "metadata": {},
   "outputs": [],
   "source": [
    "def read_file(residnuc_file):\n",
    "    # read the txt file where the first line contains lists in\n",
    "    # the form of [[Z1,A1,count1],[Z2,A2,count2],[...]]\n",
    "\n",
    "    file = open(residnuc_file, 'r')\n",
    "    line1 = file.readline()\n",
    "\n",
    "    # convert the string to a list\n",
    "    isotope_list = ast.literal_eval(line1)\n",
    "\n",
    "    return isotope_list\n",
    "\n",
    "def extract_list(isotope_list):\n",
    "    # input a list of the form [[Z1,A1,count1],[Z2,A2,count2],[...]]\n",
    "    # returns the 1st, 2nd and 3rd value of each sublist in seperate lists\n",
    "\n",
    "    Z_list, A_list, count_list = zip(*isotope_list)\n",
    "    Z_list, A_list, count_list = list(Z_list), list(A_list), list(count_list)\n",
    "\n",
    "    return Z_list, A_list, count_list\n",
    "\n",
    "isotope_list = read_file(\"/project/xenon/kweerman/exercises/ZResults/Ieki/AZisotopesIeki.txt\")\n",
    "Z_list, A_list, count_list = extract_list(isotope_list)"
   ]
  },
  {
   "cell_type": "markdown",
   "id": "8a1e9c81-5e32-43c7-988c-8a9e8e2bdd71",
   "metadata": {},
   "source": [
    "Finally the colour map (histogram) is created"
   ]
  },
  {
   "cell_type": "code",
   "execution_count": 8,
   "id": "60aa5966-c2a9-4a02-86a2-94563a8df3a2",
   "metadata": {},
   "outputs": [
    {
     "data": {
      "image/png": "[encoded data removed]",
      "text/plain": [
       "<Figure size 432x288 with 2 Axes>"
      ]
     },
     "metadata": {
      "needs_background": "light"
     },
     "output_type": "display_data"
    }
   ],
   "source": [
    "def histogram(Z_list, A_list, count_list, plot=True):\n",
    "    # creates a histogram of all isotopes\n",
    "\n",
    "    x_bins = (max(Z_list) - min(Z_list)) + 1\n",
    "    y_bins = (max(A_list) - min(A_list)) + 1\n",
    "    plt.hist2d(Z_list, A_list, weights=count_list, bins=[x_bins, y_bins], norm=mpl.colors.LogNorm(), cmin=1)\n",
    "    plt.xlim([0,60])\n",
    "    plt.ylim([0,140])\n",
    "    plt.xlabel(\"Z\")\n",
    "    plt.ylabel(\"A\")\n",
    "    plt.title(\"Muon spallation isotopes in XeLS from Ieki-san input file\")\n",
    "    plt.colorbar(label=\"count\")\n",
    "    #plt.savefig(\"AZisotopesIeki.png\")\n",
    "    return \n",
    "\n",
    "histogram(Z_list, A_list, count_list)"
   ]
  },
  {
   "cell_type": "code",
   "execution_count": null,
   "id": "44633e5f-cb3c-4db4-bb3b-86955c919a71",
   "metadata": {},
   "outputs": [],
   "source": []
  }
 ],
 "metadata": {
  "kernelspec": {
   "display_name": "Python 3 (ipykernel)",
   "language": "python",
   "name": "python3"
  },
  "language_info": {
   "codemirror_mode": {
    "name": "ipython",
    "version": 3
   },
   "file_extension": ".py",
   "mimetype": "text/x-python",
   "name": "python",
   "nbconvert_exporter": "python",
   "pygments_lexer": "ipython3",
   "version": "3.7.11"
  }
 },
 "nbformat": 4,
 "nbformat_minor": 5
}
